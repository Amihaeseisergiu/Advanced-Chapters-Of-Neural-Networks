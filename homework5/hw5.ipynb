{
 "cells": [
  {
   "cell_type": "code",
   "execution_count": 300,
   "id": "a39c350c",
   "metadata": {},
   "outputs": [],
   "source": [
    "import numpy as np\n",
    "from tensorflow.keras.datasets import imdb\n",
    "from tensorflow.keras.models import Sequential\n",
    "from tensorflow.keras.optimizers import SGD\n",
    "from tensorflow.keras.layers import Dense, LSTM, Embedding, Input\n",
    "from tensorflow.keras.layers import Dropout, Conv1D\n",
    "from tensorflow.keras.layers import Activation, BatchNormalization, Add\n",
    "from tensorflow.keras.callbacks import LearningRateScheduler\n",
    "from tensorflow.keras.preprocessing import sequence\n",
    "from tensorflow.keras.models import Model"
   ]
  },
  {
   "cell_type": "code",
   "execution_count": 301,
   "id": "bc7deea7",
   "metadata": {},
   "outputs": [],
   "source": [
    "max_words = 5000\n",
    "max_review_length = 500\n",
    "embedding_vecor_length = 32\n",
    "\n",
    "epochs = 3\n",
    "batch_size = 64\n",
    "learning_rate = 0.1"
   ]
  },
  {
   "cell_type": "code",
   "execution_count": 302,
   "id": "9cc276a5",
   "metadata": {},
   "outputs": [],
   "source": [
    "(x_train, y_train), (x_test, y_test) = imdb.load_data(num_words=max_words)\n",
    "\n",
    "x_train = sequence.pad_sequences(x_train, maxlen=max_review_length)\n",
    "x_test = sequence.pad_sequences(x_test, maxlen=max_review_length)"
   ]
  },
  {
   "cell_type": "code",
   "execution_count": 303,
   "id": "0bb8454d",
   "metadata": {},
   "outputs": [
    {
     "name": "stdout",
     "output_type": "stream",
     "text": [
      "Model: \"functional_39\"\n",
      "__________________________________________________________________________________________________\n",
      "Layer (type)                    Output Shape         Param #     Connected to                     \n",
      "==================================================================================================\n",
      "input_21 (InputLayer)           [(None, None)]       0                                            \n",
      "__________________________________________________________________________________________________\n",
      "embedding_53 (Embedding)        (None, None, 32)     160000      input_21[0][0]                   \n",
      "__________________________________________________________________________________________________\n",
      "conv1d_71 (Conv1D)              (None, None, 32)     3104        embedding_53[0][0]               \n",
      "__________________________________________________________________________________________________\n",
      "batch_normalization_38 (BatchNo (None, None, 32)     128         conv1d_71[0][0]                  \n",
      "__________________________________________________________________________________________________\n",
      "activation_41 (Activation)      (None, None, 32)     0           batch_normalization_38[0][0]     \n",
      "__________________________________________________________________________________________________\n",
      "conv1d_72 (Conv1D)              (None, None, 32)     3104        activation_41[0][0]              \n",
      "__________________________________________________________________________________________________\n",
      "activation_42 (Activation)      (None, None, 32)     0           conv1d_72[0][0]                  \n",
      "__________________________________________________________________________________________________\n",
      "conv1d_73 (Conv1D)              (None, None, 32)     3104        activation_42[0][0]              \n",
      "__________________________________________________________________________________________________\n",
      "batch_normalization_39 (BatchNo (None, None, 32)     128         conv1d_73[0][0]                  \n",
      "__________________________________________________________________________________________________\n",
      "add_20 (Add)                    (None, None, 32)     0           activation_41[0][0]              \n",
      "                                                                 batch_normalization_39[0][0]     \n",
      "__________________________________________________________________________________________________\n",
      "lstm_52 (LSTM)                  (None, 125)          79000       add_20[0][0]                     \n",
      "__________________________________________________________________________________________________\n",
      "dropout_76 (Dropout)            (None, 125)          0           lstm_52[0][0]                    \n",
      "__________________________________________________________________________________________________\n",
      "dense_51 (Dense)                (None, 1)            126         dropout_76[0][0]                 \n",
      "==================================================================================================\n",
      "Total params: 248,694\n",
      "Trainable params: 248,566\n",
      "Non-trainable params: 128\n",
      "__________________________________________________________________________________________________\n"
     ]
    }
   ],
   "source": [
    "inputs = Input(shape=(None,), dtype=\"int32\")\n",
    "x = Embedding(max_words, embedding_vecor_length, input_length=max_review_length)(inputs)\n",
    "x = Conv1D(filters=32, kernel_size=3, padding='same')(x)\n",
    "x = BatchNormalization()(x)\n",
    "shortcut = Activation('elu')(x)\n",
    "x = Conv1D(filters=32, kernel_size=3, padding='same')(shortcut)\n",
    "x = Activation('elu')(x)\n",
    "x = Conv1D(filters=32, kernel_size=3, padding='same')(x)\n",
    "x = BatchNormalization()(x)\n",
    "outputs = Add()([shortcut, x])\n",
    "outputs = LSTM(125)(outputs)\n",
    "outputs = Dropout(0.2)(outputs)\n",
    "outputs = Dense(1, activation='sigmoid')(outputs)\n",
    "model = Model(inputs=inputs, outputs=outputs)\n",
    "\n",
    "model.compile(optimizer='adam', loss='binary_crossentropy', metrics=['accuracy'])\n",
    "\n",
    "model.summary()"
   ]
  },
  {
   "cell_type": "code",
   "execution_count": 304,
   "id": "0ec8ec9c",
   "metadata": {
    "scrolled": true
   },
   "outputs": [
    {
     "name": "stdout",
     "output_type": "stream",
     "text": [
      "Epoch 1/3\n",
      "391/391 [==============================] - 23s 59ms/step - loss: 0.5017 - accuracy: 0.7430 - val_loss: 0.5040 - val_accuracy: 0.7460\n",
      "Epoch 2/3\n",
      "391/391 [==============================] - 23s 58ms/step - loss: 0.2659 - accuracy: 0.8934 - val_loss: 0.2676 - val_accuracy: 0.8920\n",
      "Epoch 3/3\n",
      "391/391 [==============================] - 22s 57ms/step - loss: 0.1971 - accuracy: 0.9257 - val_loss: 0.2684 - val_accuracy: 0.8950\n"
     ]
    }
   ],
   "source": [
    "model.fit(x_train, y_train, validation_data=(x_test, y_test),\n",
    "          workers=4, epochs=epochs, batch_size=batch_size)\n",
    "\n",
    "model.save('model.h5')"
   ]
  },
  {
   "cell_type": "code",
   "execution_count": null,
   "id": "665c9477",
   "metadata": {},
   "outputs": [],
   "source": []
  }
 ],
 "metadata": {
  "kernelspec": {
   "display_name": "Python 3 (ipykernel)",
   "language": "python",
   "name": "python3"
  },
  "language_info": {
   "codemirror_mode": {
    "name": "ipython",
    "version": 3
   },
   "file_extension": ".py",
   "mimetype": "text/x-python",
   "name": "python",
   "nbconvert_exporter": "python",
   "pygments_lexer": "ipython3",
   "version": "3.8.12"
  }
 },
 "nbformat": 4,
 "nbformat_minor": 5
}
