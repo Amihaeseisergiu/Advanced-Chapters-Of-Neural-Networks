{
 "cells": [
  {
   "cell_type": "code",
   "execution_count": 36,
   "id": "a39c350c",
   "metadata": {},
   "outputs": [],
   "source": [
    "import numpy as np\n",
    "from tensorflow.keras.datasets import imdb\n",
    "from tensorflow.keras.models import Sequential\n",
    "from tensorflow.keras.layers import Dense, LSTM, Embedding, Input\n",
    "from tensorflow.keras.layers import Dropout, Conv1D, Flatten, AveragePooling1D\n",
    "from tensorflow.keras.layers import Activation, BatchNormalization, Add\n",
    "from tensorflow.keras.callbacks import LearningRateScheduler\n",
    "from tensorflow.keras.preprocessing import sequence\n",
    "from tensorflow.keras.models import Model"
   ]
  },
  {
   "cell_type": "code",
   "execution_count": 37,
   "id": "bc7deea7",
   "metadata": {},
   "outputs": [],
   "source": [
    "max_words = 5000\n",
    "max_review_length = 500\n",
    "embedding_vecor_length = 32\n",
    "\n",
    "epochs = 3\n",
    "batch_size = 64"
   ]
  },
  {
   "cell_type": "code",
   "execution_count": 38,
   "id": "9cc276a5",
   "metadata": {},
   "outputs": [],
   "source": [
    "(x_train, y_train), (x_test, y_test) = imdb.load_data(num_words=max_words)\n",
    "\n",
    "x_train = sequence.pad_sequences(x_train, maxlen=max_review_length)\n",
    "x_test = sequence.pad_sequences(x_test, maxlen=max_review_length)"
   ]
  },
  {
   "cell_type": "code",
   "execution_count": 39,
   "id": "0bb8454d",
   "metadata": {},
   "outputs": [
    {
     "name": "stdout",
     "output_type": "stream",
     "text": [
      "Model: \"functional_15\"\n",
      "__________________________________________________________________________________________________\n",
      "Layer (type)                    Output Shape         Param #     Connected to                     \n",
      "==================================================================================================\n",
      "input_8 (InputLayer)            [(None, None)]       0                                            \n",
      "__________________________________________________________________________________________________\n",
      "embedding_7 (Embedding)         (None, None, 32)     160000      input_8[0][0]                    \n",
      "__________________________________________________________________________________________________\n",
      "conv1d_21 (Conv1D)              (None, None, 32)     3104        embedding_7[0][0]                \n",
      "__________________________________________________________________________________________________\n",
      "batch_normalization_14 (BatchNo (None, None, 32)     128         conv1d_21[0][0]                  \n",
      "__________________________________________________________________________________________________\n",
      "activation_21 (Activation)      (None, None, 32)     0           batch_normalization_14[0][0]     \n",
      "__________________________________________________________________________________________________\n",
      "conv1d_22 (Conv1D)              (None, None, 32)     3104        activation_21[0][0]              \n",
      "__________________________________________________________________________________________________\n",
      "activation_22 (Activation)      (None, None, 32)     0           conv1d_22[0][0]                  \n",
      "__________________________________________________________________________________________________\n",
      "conv1d_23 (Conv1D)              (None, None, 32)     3104        activation_22[0][0]              \n",
      "__________________________________________________________________________________________________\n",
      "batch_normalization_15 (BatchNo (None, None, 32)     128         conv1d_23[0][0]                  \n",
      "__________________________________________________________________________________________________\n",
      "add_7 (Add)                     (None, None, 32)     0           activation_21[0][0]              \n",
      "                                                                 batch_normalization_15[0][0]     \n",
      "__________________________________________________________________________________________________\n",
      "activation_23 (Activation)      (None, None, 32)     0           add_7[0][0]                      \n",
      "__________________________________________________________________________________________________\n",
      "average_pooling1d_7 (AveragePoo (None, None, 32)     0           activation_23[0][0]              \n",
      "__________________________________________________________________________________________________\n",
      "lstm_7 (LSTM)                   (None, 125)          79000       average_pooling1d_7[0][0]        \n",
      "__________________________________________________________________________________________________\n",
      "flatten_7 (Flatten)             (None, 125)          0           lstm_7[0][0]                     \n",
      "__________________________________________________________________________________________________\n",
      "dropout_7 (Dropout)             (None, 125)          0           flatten_7[0][0]                  \n",
      "__________________________________________________________________________________________________\n",
      "dense_7 (Dense)                 (None, 1)            126         dropout_7[0][0]                  \n",
      "==================================================================================================\n",
      "Total params: 248,694\n",
      "Trainable params: 248,566\n",
      "Non-trainable params: 128\n",
      "__________________________________________________________________________________________________\n"
     ]
    }
   ],
   "source": [
    "inputs = Input(shape=(None,), dtype=\"int32\")\n",
    "x = Embedding(max_words, embedding_vecor_length, input_length=max_review_length)(inputs)\n",
    "x = Conv1D(filters=32, kernel_size=3, padding='same')(x)\n",
    "x = BatchNormalization()(x)\n",
    "shortcut = Activation('elu')(x)\n",
    "x = Conv1D(filters=32, kernel_size=3, padding='same')(shortcut)\n",
    "x = Activation('elu')(x)\n",
    "x = Conv1D(filters=32, kernel_size=3, padding='same')(x)\n",
    "x = BatchNormalization()(x)\n",
    "outputs = Add()([shortcut, x])\n",
    "outputs = Activation('elu')(outputs)\n",
    "outputs = AveragePooling1D()(outputs)\n",
    "outputs = LSTM(125)(outputs)\n",
    "outputs = Flatten()(outputs)\n",
    "outputs = Dropout(0.2)(outputs)\n",
    "outputs = Dense(1, activation='sigmoid')(outputs)\n",
    "model = Model(inputs=inputs, outputs=outputs)\n",
    "\n",
    "model.compile(optimizer='adam', loss='binary_crossentropy', metrics=['accuracy'])\n",
    "\n",
    "model.summary()"
   ]
  },
  {
   "cell_type": "code",
   "execution_count": 40,
   "id": "0ec8ec9c",
   "metadata": {
    "scrolled": true
   },
   "outputs": [
    {
     "name": "stdout",
     "output_type": "stream",
     "text": [
      "Epoch 1/3\n",
      "391/391 [==============================] - 14s 35ms/step - loss: 0.5201 - accuracy: 0.7350 - val_loss: 0.4847 - val_accuracy: 0.7520\n",
      "Epoch 2/3\n",
      "391/391 [==============================] - 14s 36ms/step - loss: 0.2744 - accuracy: 0.8900 - val_loss: 0.2653 - val_accuracy: 0.8913\n",
      "Epoch 3/3\n",
      "391/391 [==============================] - 13s 34ms/step - loss: 0.1948 - accuracy: 0.9273 - val_loss: 0.2764 - val_accuracy: 0.8899\n"
     ]
    }
   ],
   "source": [
    "model.fit(x_train, y_train, validation_data=(x_test, y_test),\n",
    "          workers=4, epochs=epochs, batch_size=batch_size)\n",
    "\n",
    "model.save('model.h5')"
   ]
  },
  {
   "cell_type": "code",
   "execution_count": null,
   "id": "665c9477",
   "metadata": {},
   "outputs": [],
   "source": []
  }
 ],
 "metadata": {
  "kernelspec": {
   "display_name": "Python 3 (ipykernel)",
   "language": "python",
   "name": "python3"
  },
  "language_info": {
   "codemirror_mode": {
    "name": "ipython",
    "version": 3
   },
   "file_extension": ".py",
   "mimetype": "text/x-python",
   "name": "python",
   "nbconvert_exporter": "python",
   "pygments_lexer": "ipython3",
   "version": "3.8.12"
  }
 },
 "nbformat": 4,
 "nbformat_minor": 5
}
